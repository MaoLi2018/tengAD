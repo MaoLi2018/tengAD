{
 "cells": [
  {
   "cell_type": "code",
   "execution_count": 1,
   "metadata": {
    "collapsed": true
   },
   "outputs": [],
   "source": [
    "import pandas as pd\n",
    "import numpy as np\n",
    "import os\n",
    "import lightgbm as lgb\n",
    "\n",
    "from scipy import sparse\n",
    "\n",
    "from sklearn.preprocessing import LabelEncoder,OneHotEncoder\n",
    "from sklearn.model_selection import train_test_split\n",
    "from sklearn.linear_model import LogisticRegression\n",
    "from sklearn.metrics import log_loss,roc_curve,auc"
   ]
  },
  {
   "cell_type": "code",
   "execution_count": 2,
   "metadata": {
    "collapsed": true
   },
   "outputs": [],
   "source": [
    "def encoder(df,varList):\n",
    "    lbl = LabelEncoder()\n",
    "    for var in varList:\n",
    "        df[var] = lbl.fit_transform(df[var].astype(str))\n",
    "        df[var] = pd.to_numeric(df[var],downcast = 'unsigned')\n",
    "    return df\n",
    "def score_performance(target,score):\n",
    "    fpr, tpr, thresholds = roc_curve(target,score)\n",
    "    ks = max(tpr-fpr)\n",
    "    auc_ = auc(fpr, tpr)\n",
    "    return ks,auc_"
   ]
  },
  {
   "cell_type": "code",
   "execution_count": 4,
   "metadata": {},
   "outputs": [],
   "source": [
    "def lgbmodel(argsDict,bst_estimators = 20000):\n",
    "    leaf = argsDict['leaf']*5 + 5\n",
    "    learning_rate = argsDict['learning_rate']*0.02 + 0.01\n",
    "    colsample_bytree = argsDict['colsample_bytree']*0.1 +0.7\n",
    "    subsample = argsDict['subsample']*0.1 +0.7\n",
    "    max_bin = argsDict['max_bin']*5 + 5\n",
    "    clf = lgb.LGBMClassifier(\n",
    "        num_leaves=leaf,\n",
    "        n_estimators=bst_estimators,\n",
    "        n_jobs=20,\n",
    "        learning_rate=learning_rate,\n",
    "        colsample_bytree=colsample_bytree,\n",
    "        subsample=subsample,\n",
    "        max_bin=max_bin\n",
    "    )\n",
    "    if bst_estimators == 20000:\n",
    "        clf.fit(Xi_train_[features], y_train_, eval_set=[(Xi_valid_[features], y_valid_)],feature_name = features,\n",
    "                early_stopping_rounds=100,verbose = 200)\n",
    "        return clf,clf.best_iteration_\n",
    "    else:\n",
    "        clf.fit(Xi_finnal_[features], y_finnal_,feature_name = features,)\n",
    "        return clf\n",
    "\n",
    "def lgbtuning(argsDict):\n",
    "    print(argsDict)\n",
    "    clf,bst_estimators = lgbmodel(argsDict)\n",
    "    y_score_ = clf.predict_proba(Xi_valid_[features],num_iteration=bst_estimators)[:, 1]\n",
    "    ks,auc = ks_metric(y_valid_, y_score_)\n",
    "    print(auc)\n",
    "    print('-------------------------------------------------------------------------------------------------------------------------------\\n')\n",
    "    return -auc\n"
   ]
  },
  {
   "cell_type": "code",
   "execution_count": 6,
   "metadata": {},
   "outputs": [],
   "source": [
    "def str_process(df,var):\n",
    "    cnt = CountVectorizer()\n",
    "    cnt.vocabulary_ = dict([(str(list(set.union(*df[var].apply(lambda x:[int(i) for i in x.split(' ') if not i=='']).apply(set)))[i]),i) for i in range(len(tmp2))])\n",
    "    result = cnt.transform(df[var])\n",
    "    return result\n",
    "    \n",
    "def feat_engineer(df,trainNum,cutoff = 20 ,strList=['uid','appIdAction','appIdInstall','ct','interest1','interest2','interest3','interest4','interest5','kw1','kw2','kw3','topic1','topic2','topic3','marriageStatus','os'],\n",
    "                  lbeList=['LBS','carrier'],\n",
    "                  nochangeList=['age','consumptionAbility','education','gender','house']):\n",
    "    feat = sparse.csr_matrix(df[nochangeList].values)\n",
    "    for var in strList:\n",
    "        try:\n",
    "            feat = sparse.hstack(feat,str_process(df,var))\n",
    "        except:\n",
    "            feat = str_process(df,var)\n",
    "    for var in lbeList:\n",
    "        lbe = LabelEncoder()\n",
    "        oh = OneHotEncoder()\n",
    "        featTmp = oh.fit_transform(lbe.fit_transform(df[var]))\n",
    "        try:\n",
    "            feat = sparse.hstack(feat,featTmp)\n",
    "        except:\n",
    "            feat = featTmp\n",
    "    return feat\n",
    "    "
   ]
  },
  {
   "cell_type": "code",
   "execution_count": null,
   "metadata": {
    "collapsed": true
   },
   "outputs": [],
   "source": [
    "dfTrain = pd.read_csv('../../Data/tengAD/Raw/train.csv')\n",
    "dfTrain.label.replace({-1:0},inplace =True)\n",
    "dfTest = pd.read_csv('../../Data/tengAD/Raw/test1.csv')"
   ]
  },
  {
   "cell_type": "code",
   "execution_count": null,
   "metadata": {
    "scrolled": true
   },
   "outputs": [],
   "source": [
    "dfAd = pd.read_csv('../../Data/tengAD/Raw/adFeature.csv')\n",
    "dfAd = encoder(dfAd,[i for i in dfAd if i!='aid'])\n",
    "dfUser = pd.read_csv('../../Data/tengAD/Raw/userFeature.csv')\n",
    "dfUser.fillna('',inplace =True)\n",
    "dfUser = encoder(dfUser,[i for i in dfUser if i!='uid'])"
   ]
  },
  {
   "cell_type": "code",
   "execution_count": null,
   "metadata": {
    "collapsed": true
   },
   "outputs": [],
   "source": [
    "for aid in dfTrain['aid'].unique():\n",
    "    dfTrainTmp = dfUser.loc[dfUser['uid'].isin(dfTrain.loc[dfTrain['aid']==aid,'uid'].unique())]\n",
    "    dfTestTmp = dfUser.loc[dfUser['uid'].isin(dfTest.loc[dfTest['aid']==aid,'uid'].unique())]\n",
    "    dfAll = pd.concat([dfTrainTmp,dfTestTmp])\n",
    "    trainNum = dfTrainTmp.shape[0]\n",
    "    del dfTrainTmp\n",
    "    del dfTestTmp\n",
    "    dfAll.reset_index(drop=True,inplace=True)\n",
    "    dfAll.house.fillna(0,inplace=True)\n",
    "    dfAll.fillna('',inplace=True)\n",
    "    \n",
    "    tmpfeat = feat_engineer(dfAll,['appIdAction'],['LBS'],['age'])\n",
    "    break\n",
    "    \n",
    "    "
   ]
  },
  {
   "cell_type": "code",
   "execution_count": null,
   "metadata": {
    "collapsed": true
   },
   "outputs": [],
   "source": []
  },
  {
   "cell_type": "code",
   "execution_count": null,
   "metadata": {
    "collapsed": true
   },
   "outputs": [],
   "source": []
  },
  {
   "cell_type": "code",
   "execution_count": null,
   "metadata": {
    "collapsed": true
   },
   "outputs": [],
   "source": [
    "dfTrain = dfTrain.merge(dfAd,'left','aid')\n",
    "dfTrain = dfTrain.merge(dfUser,'left','uid')"
   ]
  },
  {
   "cell_type": "code",
   "execution_count": null,
   "metadata": {
    "scrolled": true
   },
   "outputs": [],
   "source": [
    "y = dfTrain['label']\n",
    "del dfTrain['label']\n",
    "XTrain,XValid,yTrain,yValid = train_test_split(dfTrain,y,test_size = 0.8, random_state=42)\n",
    "#XValid1,XValid2,yValid1,yValid2 = train_test_split(XValid,yValid,test_size = 0.5, random_state=42)"
   ]
  },
  {
   "cell_type": "code",
   "execution_count": null,
   "metadata": {
    "scrolled": true
   },
   "outputs": [],
   "source": [
    "clf = lgb.LGBMClassifier(\n",
    "    learning_rate =0.1,\n",
    "    leaf = 25,\n",
    "    max_bin = 20,\n",
    "    subsample = 0.8,\n",
    "    n_estimators=20000,\n",
    "    n_jobs=20,\n",
    "    colsample_bytree = 0.8,\n",
    ")\n",
    "clf.fit(XTrain,yTrain,eval_set = (XValid,yValid),\n",
    "        categorical_feature =XTrain.columns.tolist(),\n",
    "        early_stopping_rounds = 100,\n",
    "        eval_metric = 'auc')"
   ]
  },
  {
   "cell_type": "code",
   "execution_count": null,
   "metadata": {
    "scrolled": true
   },
   "outputs": [],
   "source": [
    "oh = OneHotEncoder()\n",
    "XValidLeaf1 = oh.fit_transform(clf.apply(XValid1))\n",
    "XValidLeaf2 = oh.fit_transform(clf.apply(XValid2))"
   ]
  },
  {
   "cell_type": "code",
   "execution_count": null,
   "metadata": {},
   "outputs": [],
   "source": [
    "lr = LogisticRegression(penalty ='l1',C=1.)\n",
    "lr.fit(XValidLeaf1, yValid1)"
   ]
  },
  {
   "cell_type": "code",
   "execution_count": null,
   "metadata": {
    "collapsed": true
   },
   "outputs": [],
   "source": [
    "scoreValid1 = lr.predict(XValidLeaf1)\n",
    "scoreValid2 = lr.predict(XValidLeaf2)"
   ]
  },
  {
   "cell_type": "code",
   "execution_count": null,
   "metadata": {},
   "outputs": [],
   "source": [
    "score_performance(yValid1,scoreValid1)"
   ]
  },
  {
   "cell_type": "code",
   "execution_count": null,
   "metadata": {},
   "outputs": [],
   "source": [
    "score_performance(yValid2,scoreValid2)"
   ]
  },
  {
   "cell_type": "code",
   "execution_count": null,
   "metadata": {},
   "outputs": [],
   "source": [
    "lr"
   ]
  },
  {
   "cell_type": "code",
   "execution_count": null,
   "metadata": {
    "collapsed": true
   },
   "outputs": [],
   "source": []
  },
  {
   "cell_type": "code",
   "execution_count": null,
   "metadata": {
    "collapsed": true
   },
   "outputs": [],
   "source": [
    "dfTest = dfTest.merge(dfAd,'left','aid')\n",
    "dfTest = dfTest.merge(dfUser,'left','uid')"
   ]
  },
  {
   "cell_type": "code",
   "execution_count": null,
   "metadata": {},
   "outputs": [],
   "source": [
    "scoreTest = clf.predict_proba(dfTest,num_iteration=clf.best_iteration_)[:,1]"
   ]
  },
  {
   "cell_type": "code",
   "execution_count": null,
   "metadata": {},
   "outputs": [],
   "source": [
    "submit = dfTest[['aid','uid']]\n",
    "submit['score'] = scoreTest"
   ]
  },
  {
   "cell_type": "code",
   "execution_count": null,
   "metadata": {
    "collapsed": true
   },
   "outputs": [],
   "source": [
    "submit.to_csv('../../Submission/tengAD/submission.csv',index=False)"
   ]
  },
  {
   "cell_type": "code",
   "execution_count": null,
   "metadata": {
    "collapsed": true
   },
   "outputs": [],
   "source": []
  },
  {
   "cell_type": "code",
   "execution_count": null,
   "metadata": {
    "collapsed": true
   },
   "outputs": [],
   "source": []
  },
  {
   "cell_type": "code",
   "execution_count": null,
   "metadata": {
    "collapsed": true
   },
   "outputs": [],
   "source": []
  },
  {
   "cell_type": "code",
   "execution_count": null,
   "metadata": {
    "collapsed": true
   },
   "outputs": [],
   "source": []
  },
  {
   "cell_type": "code",
   "execution_count": null,
   "metadata": {
    "collapsed": true
   },
   "outputs": [],
   "source": []
  }
 ],
 "metadata": {
  "kernelspec": {
   "display_name": "Python 3",
   "language": "python",
   "name": "python3"
  },
  "language_info": {
   "codemirror_mode": {
    "name": "ipython",
    "version": 3
   },
   "file_extension": ".py",
   "mimetype": "text/x-python",
   "name": "python",
   "nbconvert_exporter": "python",
   "pygments_lexer": "ipython3",
   "version": "3.6.1"
  }
 },
 "nbformat": 4,
 "nbformat_minor": 2
}
